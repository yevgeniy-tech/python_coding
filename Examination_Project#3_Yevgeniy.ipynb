{
 "cells": [
  {
   "cell_type": "markdown",
   "metadata": {},
   "source": [
    "## Цой Евгений\n",
    "## Examination Project (Project #3)\n",
    "## Sequential Gaussian Simulation\n",
    "### Реализация осуществлена с применением ООП на Python (как и требовалось по условию)"
   ]
  },
  {
   "cell_type": "markdown",
   "metadata": {},
   "source": [
    "_______________________________________________________________________________________________________________________________\n",
    "#### 0. Representative Distribution and Transform"
   ]
  },
  {
   "cell_type": "code",
   "execution_count": 1,
   "metadata": {},
   "outputs": [
    {
     "name": "stdout",
     "output_type": "stream",
     "text": [
      "mean: 0.15\n",
      "st. deviation: 0.03\n"
     ]
    }
   ],
   "source": [
    "#во-первых задам ключевые параметры распределения\n",
    "mean = 0.15 #математическое ожидание\n",
    "standard_deviation = 0.03 #стандартная ошибка\n",
    "\n",
    "print('mean:', mean)\n",
    "print('st. deviation:', standard_deviation)"
   ]
  },
  {
   "cell_type": "markdown",
   "metadata": {},
   "source": [
    "Сразу стоит упомянуть, что в работе предполагается работа с нормальным (гауссовым) распределением"
   ]
  },
  {
   "cell_type": "code",
   "execution_count": 2,
   "metadata": {},
   "outputs": [],
   "source": [
    "from scipy.stats import norm #импортирую для работы с нормальными непрерывными случайными величинами\n",
    "import pandas as pd #для занесения данных в DataFrame и наглядного отображения колонок"
   ]
  },
  {
   "cell_type": "code",
   "execution_count": 3,
   "metadata": {},
   "outputs": [
    {
     "data": {
      "text/html": [
       "<div>\n",
       "<style scoped>\n",
       "    .dataframe tbody tr th:only-of-type {\n",
       "        vertical-align: middle;\n",
       "    }\n",
       "\n",
       "    .dataframe tbody tr th {\n",
       "        vertical-align: top;\n",
       "    }\n",
       "\n",
       "    .dataframe thead th {\n",
       "        text-align: right;\n",
       "    }\n",
       "</style>\n",
       "<table border=\"1\" class=\"dataframe\">\n",
       "  <thead>\n",
       "    <tr style=\"text-align: right;\">\n",
       "      <th></th>\n",
       "      <th>P-values</th>\n",
       "      <th>Data</th>\n",
       "      <th>Standard Normal</th>\n",
       "    </tr>\n",
       "  </thead>\n",
       "  <tbody>\n",
       "    <tr>\n",
       "      <th>0</th>\n",
       "      <td>0.001</td>\n",
       "      <td>0.057293</td>\n",
       "      <td>-3.090232</td>\n",
       "    </tr>\n",
       "    <tr>\n",
       "      <th>1</th>\n",
       "      <td>0.010</td>\n",
       "      <td>0.080210</td>\n",
       "      <td>-2.326348</td>\n",
       "    </tr>\n",
       "    <tr>\n",
       "      <th>2</th>\n",
       "      <td>0.020</td>\n",
       "      <td>0.088388</td>\n",
       "      <td>-2.053749</td>\n",
       "    </tr>\n",
       "    <tr>\n",
       "      <th>3</th>\n",
       "      <td>0.030</td>\n",
       "      <td>0.093576</td>\n",
       "      <td>-1.880794</td>\n",
       "    </tr>\n",
       "    <tr>\n",
       "      <th>4</th>\n",
       "      <td>0.040</td>\n",
       "      <td>0.097479</td>\n",
       "      <td>-1.750686</td>\n",
       "    </tr>\n",
       "    <tr>\n",
       "      <th>5</th>\n",
       "      <td>0.050</td>\n",
       "      <td>0.100654</td>\n",
       "      <td>-1.644854</td>\n",
       "    </tr>\n",
       "    <tr>\n",
       "      <th>6</th>\n",
       "      <td>0.060</td>\n",
       "      <td>0.103357</td>\n",
       "      <td>-1.554774</td>\n",
       "    </tr>\n",
       "    <tr>\n",
       "      <th>7</th>\n",
       "      <td>0.070</td>\n",
       "      <td>0.105726</td>\n",
       "      <td>-1.475791</td>\n",
       "    </tr>\n",
       "    <tr>\n",
       "      <th>8</th>\n",
       "      <td>0.080</td>\n",
       "      <td>0.107848</td>\n",
       "      <td>-1.405072</td>\n",
       "    </tr>\n",
       "    <tr>\n",
       "      <th>9</th>\n",
       "      <td>0.090</td>\n",
       "      <td>0.109777</td>\n",
       "      <td>-1.340755</td>\n",
       "    </tr>\n",
       "  </tbody>\n",
       "</table>\n",
       "</div>"
      ],
      "text/plain": [
       "   P-values      Data  Standard Normal\n",
       "0     0.001  0.057293        -3.090232\n",
       "1     0.010  0.080210        -2.326348\n",
       "2     0.020  0.088388        -2.053749\n",
       "3     0.030  0.093576        -1.880794\n",
       "4     0.040  0.097479        -1.750686\n",
       "5     0.050  0.100654        -1.644854\n",
       "6     0.060  0.103357        -1.554774\n",
       "7     0.070  0.105726        -1.475791\n",
       "8     0.080  0.107848        -1.405072\n",
       "9     0.090  0.109777        -1.340755"
      ]
     },
     "execution_count": 3,
     "metadata": {},
     "output_type": "execute_result"
    }
   ],
   "source": [
    "#преобразую два списка в словарь для сопоставления p-values с полученными значениями ppf\n",
    "#приступаю к применению ООП в работе\n",
    "\n",
    "class Input_Distribution: #класс - входное распределение\n",
    "    #суть данного класса - у меня имеется среднее значение и стандартное отклонение, \n",
    "    #так вот по ним я должен смоделировать распределение\n",
    "    \n",
    "    def __init__(self, P_value, Data, Standard_Normal):\n",
    "        self.P_value = P_value\n",
    "        self.Data = Data\n",
    "        self.Standard_Normal = Standard_Normal\n",
    "    \n",
    "    #реализация этой части в Excel находится ниже основной области и представлена тремя колонками: P, Data и Standard Normal\n",
    "    #автор работы Excel моделирует распределение используя 100 p-values и 2 граничных, то есть итого 102 значения\n",
    "\n",
    "Distribution_values = [] #создам пустой список для дальнейшего занесения значений\n",
    "\n",
    "#здесь очень важно понимать, что помимо генерации данных, представленными колонкой Data\n",
    "#этой колонке Data я должен сопоставить значения стандартного нормального распределения (представлены колонкой Standard Normal)\n",
    "\n",
    "Distribution_values.append(Input_Distribution(0.001, \n",
    "                                              #обязательно указываю здесь данные по условию (mean и st. deviation)\n",
    "                                              norm.ppf(0.001, loc = mean, scale = standard_deviation), \n",
    "                                              #здесь уже перехожу к стандартному нормальному распределению\n",
    "                                              #в котором, как известно мат. ожидание равно нулю, а ст. отклонение единице\n",
    "                                              norm.ppf(0.001, loc = 0, scale = 1)))\n",
    "\n",
    "P_value = 0.01 #начальное p-value для наращивания\n",
    "\n",
    "while P_value <= 1: #так как мне необходимо сгенерировать 100 значений p-value, то задаю подобное условие\n",
    "    Distribution_values.append(Input_Distribution(P_value, \n",
    "                                                  norm.ppf(P_value, loc = mean, scale = standard_deviation), \n",
    "                                                  norm.ppf(P_value, loc = 0, scale = 1)))\n",
    "    P_value += 0.01 #до тех пор пока P не достигнет 1, увеличиваю P на величину шага\n",
    "\n",
    "#тоже самое, но уже для верхнего граничного значения P-value\n",
    "Distribution_values.append(Input_Distribution(0.999, \n",
    "                                              norm.ppf(0.999, loc = mean, scale = standard_deviation), \n",
    "                                              norm.ppf(0.999, loc = 0, scale = 1)))\n",
    "\n",
    "#создам списки для соответствующих значений распределения (эти списки будут использоваться для построения графиков)\n",
    "P_values = []\n",
    "Data_values = []\n",
    "Standard_Normal_values = []\n",
    "\n",
    "#также создам список для внесения итоговых значений смоделированного распределения\n",
    "final_values = []\n",
    "\n",
    "for P_value in Distribution_values: #loop\n",
    "    \n",
    "    P_values.append(P_value.P_value)\n",
    "    Data_values.append(P_value.Data)\n",
    "    Standard_Normal_values.append(P_value.Standard_Normal)\n",
    "    \n",
    "    interim_values = []\n",
    "    interim_values.append(P_value.P_value)\n",
    "    interim_values.append(P_value.Data)\n",
    "    interim_values.append(P_value.Standard_Normal)\n",
    "    final_values.append(interim_values)\n",
    "\n",
    "#занесу значения распределения в DataFrame и назову колонки соответствующим образом\n",
    "df = pd.DataFrame(data = final_values, columns = ['P-values', 'Data', 'Standard Normal'])\n",
    "#вывод значений (например, первых 10)\n",
    "df.head(10)"
   ]
  },
  {
   "cell_type": "code",
   "execution_count": 4,
   "metadata": {},
   "outputs": [],
   "source": [
    "#теперь по полученным значениям распределения буду строить графики\n",
    "\n",
    "import matplotlib.pyplot as plt #импортирую matplotlib для построения графиков\n",
    "%matplotlib inline\n",
    "#чтобы не писать каждый раз plt.show()"
   ]
  },
  {
   "cell_type": "code",
   "execution_count": 5,
   "metadata": {},
   "outputs": [
    {
     "data": {
      "text/plain": [
       "Text(0, 0.5, 'Cumulative Probability\\n')"
      ]
     },
     "execution_count": 5,
     "metadata": {},
     "output_type": "execute_result"
    },
    {
     "data": {
      "image/png": "[encoded data removed]",
      "text/plain": [
       "<Figure size 480x320 with 1 Axes>"
      ]
     },
     "metadata": {},
     "output_type": "display_data"
    }
   ],
   "source": [
    "#график № 1\n",
    "#на нём отображу Data относительно P-values и Standard Normal относительно P-values\n",
    "\n",
    "figure1 = plt.figure(figsize = (6, 4), dpi = 80, facecolor = 'w', edgecolor = 'k') #создаю фигуру и определяю её параметры\n",
    "plt.title(label = 'Figure 1: Data and Transformed Distributions\\n', fontsize = 12, loc = 'center') #заголовок для фигуры\n",
    "\n",
    "#непосредственно сами графики\n",
    "plt.plot(Data_values, P_values, c = 'blue', label = 'Data Distribution')\n",
    "plt.plot(Standard_Normal_values, P_values, c = 'red', label = \"St. Normal Distribution\")\n",
    "plt.legend(loc = 'best') #задаю расположение легенды\n",
    "\n",
    "plt.xlabel('\\nValue', fontsize = 10) #добавляю надпись для оси абсцисс и задаю размер\n",
    "plt.ylabel('Cumulative Probability\\n', fontsize = 10) #тоже самое для оси ординат"
   ]
  },
  {
   "cell_type": "code",
   "execution_count": 6,
   "metadata": {},
   "outputs": [
    {
     "data": {
      "text/plain": [
       "Text(0, 0.5, 'Standard Normal\\n')"
      ]
     },
     "execution_count": 6,
     "metadata": {},
     "output_type": "execute_result"
    },
    {
     "data": {
      "image/png": "[encoded data removed]",
      "text/plain": [
       "<Figure size 480x320 with 1 Axes>"
      ]
     },
     "metadata": {},
     "output_type": "display_data"
    }
   ],
   "source": [
    "#график № 2 - Q-Q (quantile-quantile) plot\n",
    "#этот график используется для сравнения двух распределений\n",
    "\n",
    "figure2 = plt.figure(figsize = (6, 4), dpi = 80, facecolor = 'w', edgecolor = 'k')\n",
    "plt.title(label = 'Figure 2: Q-Q Plot\\n', fontsize = 12, loc = 'center')\n",
    "\n",
    "plt.plot(Data_values, Standard_Normal_values, c = 'black')\n",
    "\n",
    "plt.xlabel('\\nData', fontsize = 10)\n",
    "plt.ylabel('Standard Normal\\n', fontsize = 10)\n",
    "\n",
    "#у нас получилась прямая линия, что указывает на, если так можно сказать, \"идеальное\" нормальное распределение"
   ]
  },
  {
   "cell_type": "code",
   "execution_count": 7,
   "metadata": {},
   "outputs": [],
   "source": [
    "import numpy as np #подключаю для вычислений\n",
    "\n",
    "#настало время для создания основного класса\n",
    "class Main:\n",
    "    \n",
    "    #1. Data\n",
    "    def __init__(self, x, y, value): #в качестве аргументов задаю x, y и value\n",
    "        self.x = x\n",
    "        self.y = y\n",
    "        self.value = value\n",
    "\n",
    "#метод для вычисления Gaussian\n",
    "    def gaussian(self):\n",
    "        gaussian_values = []\n",
    "        for cell in data:\n",
    "            gaussian_values.append(norm.ppf(norm(loc = mean, scale = standard_deviation).cdf(cell.value)))\n",
    "        gaussian_mean = np.average(gaussian_values)\n",
    "        return gaussian_values, gaussian_mean\n",
    "        \n",
    "#метод для вычисления mean (для Point 1, 2, 3 и unknown)\n",
    "    def data_mean(self):\n",
    "        cell_values = []\n",
    "        for cell in data:\n",
    "            cell_values.append(cell.value)\n",
    "            mean_values = np.average(cell_values)\n",
    "        return mean_values\n",
    "\n",
    "\n",
    "    #2. Distance Matrix\n",
    "#метод для вычисления матрицы расстояний\n",
    "    def distance_matrix(self):\n",
    "        distance_matrix_values = []\n",
    "        for cell in data:\n",
    "            current_cell = cell\n",
    "            interim = []\n",
    "            for cell in data:\n",
    "                #пройдусь по каждому значению point\n",
    "                interim.append(np.sqrt(np.power((current_cell.x - cell.x), 2) + np.power((current_cell.y - cell.y), 2)))\n",
    "                #добавлю значения, свойственные unknown\n",
    "            interim.append(np.sqrt(np.power((current_cell.x - unknown.x), 2) + np.power((current_cell.y - unknown.y), 2)))\n",
    "            distance_matrix_values.append(interim)\n",
    "        return distance_matrix_values\n",
    "\n",
    "\n",
    "    #4. Variogram Matrix\n",
    "#метод для вычисления матрицы вариограммы\n",
    "    def variogram_matrix(self):\n",
    "        variogram_matrix_values = []\n",
    "        for matrix in distance_matrix:\n",
    "            interim = []\n",
    "            for element in matrix:\n",
    "                if element > v_range:\n",
    "                    calc = (element / v_range) - 0.5 * (element/v_range)**3\n",
    "                else:\n",
    "                    calc = 1.5 * ((element/v_range) - 0.5 * (element/v_range)**3)\n",
    "                interim.append((nugget + spherical) * calc)\n",
    "            variogram_matrix_values.append(interim)\n",
    "        return variogram_matrix_values\n",
    "    \n",
    "\n",
    "    #5. Covariance Matrix         \n",
    "#метод для вычисления ковариационной матрицы\n",
    "    def covariance_matrix(self):\n",
    "        covariance_matrix_values = []\n",
    "        for matrix in variogram_matrix:\n",
    "            interim = []\n",
    "            for element in matrix:\n",
    "                interim.append((nugget + spherical) - element)\n",
    "            covariance_matrix_values.append(interim)    \n",
    "        return covariance_matrix_values\n",
    "\n",
    "\n",
    "    # 6. Inverse Left Side\n",
    "#метод для вычисления обратной матрицы для левой части матрицы ковариации\n",
    "    def inverse_left_side(self):\n",
    "        cut_unknown = []\n",
    "        for element in covariance_matrix:\n",
    "            element = element[:-1]\n",
    "            cut_unknown.append(element)\n",
    "        cut_unknown\n",
    "        #воспользуюсь numpy.linalg.inv, чтобы рассчитать обратную матрицу к матрице covariance matrix\n",
    "        inverse_left_side_values = np.linalg.inv(cut_unknown)\n",
    "        return inverse_left_side_values\n",
    "      \n",
    "\n",
    "    # 7. Weights\n",
    "#метод для вычисления весов (Simple Kriging Weights)      \n",
    "    def weights(self):\n",
    "        unknown_values_matrix = []\n",
    "        for matrix in covariance_matrix:\n",
    "            unknown_values_matrix.append(matrix[-1])\n",
    "        #умножение матрицы на матрицу\n",
    "        weights = np.dot(inverse_left_side, unknown_values_matrix) #или np.matmul\n",
    "        sum_of_weights = np.sum(weights) #вычислю сумму весов\n",
    "        return weights, sum_of_weights, unknown_values_matrix\n",
    "\n",
    "\n",
    "    # 8. Kriging Results\n",
    "#метод для вычисления оценки Кригинга\n",
    "    def kriging_estimate(self):\n",
    "        kriging_estimate = np.matmul(gaussian_values, weights) + ((1 - sum_of_weights) * gaussian_mean)\n",
    "        return kriging_estimate\n",
    "    \n",
    "#метод для вычисления дисперсии Кригинга\n",
    "    def kriging_variance(self):\n",
    "        kriging_variance = (nugget + spherical) - np.matmul(unknown_values_matrix, weights)\n",
    "        return kriging_variance"
   ]
  },
  {
   "cell_type": "markdown",
   "metadata": {},
   "source": [
    "Теперь уже я буду применять класс Main и обращаться к методам этого класса, так скажем пожинать плоды"
   ]
  },
  {
   "cell_type": "markdown",
   "metadata": {},
   "source": [
    "_______________________________________________________________________________________________________________________________\n",
    "#### 1. Data"
   ]
  },
  {
   "cell_type": "code",
   "execution_count": 8,
   "metadata": {},
   "outputs": [
    {
     "name": "stdout",
     "output_type": "stream",
     "text": [
      "mean 0.147\n"
     ]
    },
    {
     "data": {
      "text/plain": [
       "[-1.6666666666666665, -0.3333333333333327, 1.6666666666666672]"
      ]
     },
     "execution_count": 8,
     "metadata": {},
     "output_type": "execute_result"
    }
   ],
   "source": [
    "#ввожу координаты данных и их значения\n",
    "point1 = Main(70, 50, 0.1)\n",
    "point2 = Main(5, 43, 0.14)\n",
    "point3 = Main(18, 29, 0.2)\n",
    "unknown = Main(40, 30, None)\n",
    "\n",
    "data = [point1, point2, point3]\n",
    "\n",
    "data_mean = Main.data_mean(data)\n",
    "print('mean', data_mean.round(3))\n",
    "\n",
    "gaussian_values, gaussian_mean = Main.gaussian(data)\n",
    "gaussian_values"
   ]
  },
  {
   "cell_type": "code",
   "execution_count": 9,
   "metadata": {},
   "outputs": [
    {
     "data": {
      "text/plain": [
       "Text(0, 0.5, 'Y Coordinate\\n')"
      ]
     },
     "execution_count": 9,
     "metadata": {},
     "output_type": "execute_result"
    },
    {
     "data": {
      "image/png": "[encoded data removed]",
      "text/plain": [
       "<Figure size 480x320 with 1 Axes>"
      ]
     },
     "metadata": {},
     "output_type": "display_data"
    }
   ],
   "source": [
    "#воссоздаю график № 3\n",
    "#наглядно отображает координаты данных, их локацию относительно друг друга\n",
    "\n",
    "X = []\n",
    "Y = []\n",
    "for cell in data:\n",
    "    X.append(cell.x)\n",
    "    Y.append(cell.y)\n",
    "\n",
    "figure3 = plt.figure(figsize = (6, 4), dpi = 80, facecolor = 'w', edgecolor = 'k')\n",
    "plt.title(label = 'Figure 3: Data Locations and Kriging Weights\\n', fontsize = 12, loc = 'center')\n",
    "\n",
    "plt.scatter(X, Y, c = 'firebrick', label = 'Data')\n",
    "plt.scatter(unknown.x, unknown.y, c = 'black', marker = 's', label = \"Unknown\")\n",
    "plt.legend(loc = 'lower right')\n",
    "\n",
    "plt.axis([0, 100, 0, 100])\n",
    "plt.xlabel('\\nX Coordinate', fontsize = 10)\n",
    "plt.ylabel('Y Coordinate\\n', fontsize = 10)"
   ]
  },
  {
   "cell_type": "markdown",
   "metadata": {},
   "source": [
    "#### 2. Distance Matrix"
   ]
  },
  {
   "cell_type": "code",
   "execution_count": 10,
   "metadata": {},
   "outputs": [
    {
     "data": {
      "text/plain": [
       "[[0.0, 65.37583651472461, 56.08029957123981, 36.05551275463989],\n",
       " [65.37583651472461, 0.0, 19.1049731745428, 37.33630940518894],\n",
       " [56.08029957123981, 19.1049731745428, 0.0, 22.02271554554524]]"
      ]
     },
     "execution_count": 10,
     "metadata": {},
     "output_type": "execute_result"
    }
   ],
   "source": [
    "distance_matrix = Main.distance_matrix(data)\n",
    "distance_matrix"
   ]
  },
  {
   "cell_type": "markdown",
   "metadata": {},
   "source": [
    "#### 3. Variogram Model"
   ]
  },
  {
   "cell_type": "code",
   "execution_count": 11,
   "metadata": {},
   "outputs": [
    {
     "data": {
      "text/plain": [
       "{'Nugget': 0, 'Spherical': 1, 'Range': 300}"
      ]
     },
     "execution_count": 11,
     "metadata": {},
     "output_type": "execute_result"
    }
   ],
   "source": [
    "#задам параметры нашей модели вариограммы с указанием nugget effect, сферической модели и диапазона\n",
    "nugget = 0\n",
    "spherical = 1\n",
    "v_range = 300\n",
    "\n",
    "variogram_model = {'Nugget': nugget, 'Spherical': spherical, 'Range': v_range}\n",
    "variogram_model"
   ]
  },
  {
   "cell_type": "markdown",
   "metadata": {},
   "source": [
    "#### 4. Variogram Matrix"
   ]
  },
  {
   "cell_type": "code",
   "execution_count": 12,
   "metadata": {},
   "outputs": [
    {
     "data": {
      "text/plain": [
       "[[0.0, 0.31911761798295823, 0.2755022605742116, 0.17897555914594857],\n",
       " [0.31911761798295823, 0.0, 0.09533116267247212, 0.18523580215619934],\n",
       " [0.2755022605742116, 0.09533116267247212, 0.0, 0.10981688280995983]]"
      ]
     },
     "execution_count": 12,
     "metadata": {},
     "output_type": "execute_result"
    }
   ],
   "source": [
    "variogram_matrix = Main.variogram_matrix(data)\n",
    "variogram_matrix"
   ]
  },
  {
   "cell_type": "markdown",
   "metadata": {},
   "source": [
    "#### 5. Covariance Matrix"
   ]
  },
  {
   "cell_type": "code",
   "execution_count": 13,
   "metadata": {},
   "outputs": [
    {
     "data": {
      "text/plain": [
       "[[1.0, 0.6808823820170418, 0.7244977394257883, 0.8210244408540515],\n",
       " [0.6808823820170418, 1.0, 0.9046688373275279, 0.8147641978438007],\n",
       " [0.7244977394257883, 0.9046688373275279, 1.0, 0.8901831171900402]]"
      ]
     },
     "execution_count": 13,
     "metadata": {},
     "output_type": "execute_result"
    }
   ],
   "source": [
    "covariance_matrix = Main.covariance_matrix(data)\n",
    "covariance_matrix"
   ]
  },
  {
   "cell_type": "markdown",
   "metadata": {},
   "source": [
    "#### 6. Inverse Left Side"
   ]
  },
  {
   "cell_type": "code",
   "execution_count": 14,
   "metadata": {},
   "outputs": [
    {
     "data": {
      "text/plain": [
       "array([[ 2.12073174, -0.29726981, -1.26753462],\n",
       "       [-0.29726981,  5.54905676, -4.80468742],\n",
       "       [-1.26753462, -4.80468742,  6.26497695]])"
      ]
     },
     "execution_count": 14,
     "metadata": {},
     "output_type": "execute_result"
    }
   ],
   "source": [
    "inverse_left_side = Main.inverse_left_side(data)\n",
    "inverse_left_side"
   ]
  },
  {
   "cell_type": "markdown",
   "metadata": {},
   "source": [
    "#### 7. Weights"
   ]
  },
  {
   "cell_type": "code",
   "execution_count": 15,
   "metadata": {},
   "outputs": [
    {
     "name": "stdout",
     "output_type": "stream",
     "text": [
      "Weights: [3.70629876e-01 5.53743211e-05 6.21612515e-01]\n",
      "Sum of Weights: 0.9922977647295178\n"
     ]
    }
   ],
   "source": [
    "weights, sum_of_weights, unknown_values_matrix = Main.weights(data)\n",
    "print('Weights:', weights)\n",
    "print('Sum of Weights:', sum_of_weights)"
   ]
  },
  {
   "cell_type": "markdown",
   "metadata": {},
   "source": [
    "#### 8. Kriging Results"
   ]
  },
  {
   "cell_type": "code",
   "execution_count": 16,
   "metadata": {},
   "outputs": [
    {
     "name": "stdout",
     "output_type": "stream",
     "text": [
      "Kriging Estimate: 0.41743013572395227\n",
      "Kriging Variance 0.14230973051020634\n"
     ]
    }
   ],
   "source": [
    "kriging_estimate = Main.kriging_estimate(data)\n",
    "kriging_variance = Main.kriging_variance(data)\n",
    "print('Kriging Estimate:', kriging_estimate)\n",
    "print('Kriging Variance', kriging_variance)"
   ]
  },
  {
   "cell_type": "markdown",
   "metadata": {},
   "source": [
    "#### 9. Simulation Results"
   ]
  },
  {
   "cell_type": "code",
   "execution_count": 21,
   "metadata": {},
   "outputs": [
    {
     "data": {
      "text/html": [
       "<div>\n",
       "<style scoped>\n",
       "    .dataframe tbody tr th:only-of-type {\n",
       "        vertical-align: middle;\n",
       "    }\n",
       "\n",
       "    .dataframe tbody tr th {\n",
       "        vertical-align: top;\n",
       "    }\n",
       "\n",
       "    .dataframe thead th {\n",
       "        text-align: right;\n",
       "    }\n",
       "</style>\n",
       "<table border=\"1\" class=\"dataframe\">\n",
       "  <thead>\n",
       "    <tr style=\"text-align: right;\">\n",
       "      <th></th>\n",
       "      <th>Realization</th>\n",
       "      <th>Simulation</th>\n",
       "      <th>Back Transformed</th>\n",
       "    </tr>\n",
       "  </thead>\n",
       "  <tbody>\n",
       "    <tr>\n",
       "      <th>0</th>\n",
       "      <td>1</td>\n",
       "      <td>0.602352</td>\n",
       "      <td>0.168071</td>\n",
       "    </tr>\n",
       "    <tr>\n",
       "      <th>1</th>\n",
       "      <td>2</td>\n",
       "      <td>0.281165</td>\n",
       "      <td>0.158435</td>\n",
       "    </tr>\n",
       "    <tr>\n",
       "      <th>2</th>\n",
       "      <td>3</td>\n",
       "      <td>0.323173</td>\n",
       "      <td>0.159695</td>\n",
       "    </tr>\n",
       "    <tr>\n",
       "      <th>3</th>\n",
       "      <td>4</td>\n",
       "      <td>0.380031</td>\n",
       "      <td>0.161401</td>\n",
       "    </tr>\n",
       "    <tr>\n",
       "      <th>4</th>\n",
       "      <td>5</td>\n",
       "      <td>0.450293</td>\n",
       "      <td>0.163509</td>\n",
       "    </tr>\n",
       "    <tr>\n",
       "      <th>5</th>\n",
       "      <td>6</td>\n",
       "      <td>0.474026</td>\n",
       "      <td>0.164221</td>\n",
       "    </tr>\n",
       "    <tr>\n",
       "      <th>6</th>\n",
       "      <td>7</td>\n",
       "      <td>0.260846</td>\n",
       "      <td>0.157825</td>\n",
       "    </tr>\n",
       "    <tr>\n",
       "      <th>7</th>\n",
       "      <td>8</td>\n",
       "      <td>0.455564</td>\n",
       "      <td>0.163667</td>\n",
       "    </tr>\n",
       "    <tr>\n",
       "      <th>8</th>\n",
       "      <td>9</td>\n",
       "      <td>0.409609</td>\n",
       "      <td>0.162288</td>\n",
       "    </tr>\n",
       "    <tr>\n",
       "      <th>9</th>\n",
       "      <td>10</td>\n",
       "      <td>0.391395</td>\n",
       "      <td>0.161742</td>\n",
       "    </tr>\n",
       "  </tbody>\n",
       "</table>\n",
       "</div>"
      ],
      "text/plain": [
       "   Realization  Simulation  Back Transformed\n",
       "0            1    0.602352          0.168071\n",
       "1            2    0.281165          0.158435\n",
       "2            3    0.323173          0.159695\n",
       "3            4    0.380031          0.161401\n",
       "4            5    0.450293          0.163509\n",
       "5            6    0.474026          0.164221\n",
       "6            7    0.260846          0.157825\n",
       "7            8    0.455564          0.163667\n",
       "8            9    0.409609          0.162288\n",
       "9           10    0.391395          0.161742"
      ]
     },
     "execution_count": 21,
     "metadata": {},
     "output_type": "execute_result"
    }
   ],
   "source": [
    "#для Simulation Results создам отдельный класс\n",
    "\n",
    "class Simulation_Results:\n",
    "    \n",
    "    #суть работы класса - применение имитационного моделирование (метода Монте-Карло)\n",
    "    #(учитывая гауссово распределение для локального CDF) с целью моделирования реализаций\n",
    "    \n",
    "    #при этом, так как в начале я преобразовывал данные и переходил к стандартному нормальному распределению\n",
    "    #то сейчас мне необходимо сделать обратное преобразование (back transform)\n",
    "    \n",
    "    def __init__(self, realization, simulation, back_transformed):\n",
    "        self.realization = realization\n",
    "        self.simulation = simulation\n",
    "        self.back_transformed = back_transformed\n",
    "\n",
    "r_list = []\n",
    "\n",
    "increment = 1\n",
    "realization_number = 10 #указываю количество реализаций\n",
    "\n",
    "for realization in range(realization_number):\n",
    "    data = []\n",
    "    data.append(increment)\n",
    "    #можно заметить, что здесь имеется случайный характер, следовательно при каждом вызове этого класса\n",
    "    #значения 'Simulation' и 'Back Transformed' будут незначительно, но отличаться\n",
    "    #как минимум, потому что это имитационное моделирование\n",
    "    simulation = norm.ppf(np.random.uniform(0,1), kriging_estimate, kriging_variance)\n",
    "    data.append(simulation)\n",
    "    ncrv = norm(0, 1).cdf(simulation)\n",
    "    back_transformed = norm.ppf(ncrv, mean, standard_deviation)\n",
    "    data.append(back_transformed)\n",
    "    realization = Simulation_Results(increment, simulation, back_transformed)\n",
    "    increment += 1\n",
    "    r_list.append(data)\n",
    "\n",
    "#передам значения реализаций в DataFrame и назову колонки должным образом\n",
    "df2 = pd.DataFrame(data = r_list, columns = ['Realization', 'Simulation', 'Back Transformed'])\n",
    "#вывод значений 10 полученных реализаций\n",
    "df2"
   ]
  },
  {
   "cell_type": "markdown",
   "metadata": {},
   "source": [
    "Интерпретация хода работы, используемых методов, а также анализ работы и результатов будут приведены в отчётной документации"
   ]
  },
  {
   "cell_type": "markdown",
   "metadata": {},
   "source": [
    "_______________________________________________________________________________________________________________________________\n",
    "<font size=\"+2\"><font color='red'><center>THE END"
   ]
  }
 ],
 "metadata": {
  "kernelspec": {
   "display_name": "Python 3",
   "language": "python",
   "name": "python3"
  },
  "language_info": {
   "codemirror_mode": {
    "name": "ipython",
    "version": 3
   },
   "file_extension": ".py",
   "mimetype": "text/x-python",
   "name": "python",
   "nbconvert_exporter": "python",
   "pygments_lexer": "ipython3",
   "version": "3.7.1"
  }
 },
 "nbformat": 4,
 "nbformat_minor": 2
}
